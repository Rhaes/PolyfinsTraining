{
  "nbformat": 4,
  "nbformat_minor": 0,
  "metadata": {
    "colab": {
      "provenance": [],
      "gpuType": "T4"
    },
    "kernelspec": {
      "name": "python3",
      "display_name": "Python 3"
    },
    "language_info": {
      "name": "python"
    },
    "accelerator": "GPU"
  },
  "cells": [
    {
      "cell_type": "code",
      "execution_count": null,
      "metadata": {
        "id": "PN3q1z3ThNPc"
      },
      "outputs": [],
      "source": [
        "# Import PyDrive and associated libraries.\n",
        "# This only needs to be done once per notebook.\n",
        "import logging\n",
        "logging.getLogger('googleapiclient.discovery_cache').setLevel(logging.ERROR)\n",
        "from pydrive.auth import GoogleAuth\n",
        "from pydrive.drive import GoogleDrive\n",
        "from google.colab import auth\n",
        "from oauth2client.client import GoogleCredentials\n",
        "\n",
        "# Authenticate and create the PyDrive client.\n",
        "# This only needs to be done once per notebook.\n",
        "auth.authenticate_user()\n",
        "gauth = GoogleAuth()\n",
        "gauth.credentials = GoogleCredentials.get_application_default()\n",
        "drive = GoogleDrive(gauth)"
      ]
    },
    {
      "cell_type": "code",
      "source": [
        "!gsutil -m cp gs://tibot-ml-labeling/datasets/cats_vs_dogs_dataset.zip  ./"
      ],
      "metadata": {
        "id": "TeJeGG0fhSTa",
        "colab": {
          "base_uri": "https://localhost:8080/"
        },
        "outputId": "80f27421-e24a-4d85-c43b-9f3c133e5529"
      },
      "execution_count": null,
      "outputs": [
        {
          "output_type": "stream",
          "name": "stdout",
          "text": [
            "Copying gs://tibot-ml-labeling/datasets/cats_vs_dogs_dataset.zip...\n",
            "/ [0/1 files][    0.0 B/593.6 MiB]   0% Done                                    \r==> NOTE: You are downloading one or more large file(s), which would\n",
            "run significantly faster if you enabled sliced object downloads. This\n",
            "feature is enabled by default but requires that compiled crcmod be\n",
            "installed (see \"gsutil help crcmod\").\n",
            "\n",
            "/ [1/1 files][593.6 MiB/593.6 MiB] 100% Done  51.0 MiB/s ETA 00:00:00           \n",
            "Operation completed over 1 objects/593.6 MiB.                                    \n"
          ]
        }
      ]
    },
    {
      "cell_type": "code",
      "source": [
        "!unzip -q /content/cats_vs_dogs_dataset.zip"
      ],
      "metadata": {
        "id": "B2WbsKZ1heDM"
      },
      "execution_count": null,
      "outputs": []
    },
    {
      "cell_type": "code",
      "source": [
        "import tensorflow as tf\n",
        "from tensorflow.keras.applications import EfficientNetV2B2\n",
        "from tensorflow.keras.layers import Dense, GlobalAveragePooling2D\n",
        "from tensorflow.keras.models import Model\n",
        "from tensorflow.keras.preprocessing.image import ImageDataGenerator\n",
        "from sklearn.metrics import classification_report, confusion_matrix\n",
        "import matplotlib.pyplot as plt\n",
        "from sklearn.model_selection import train_test_split\n",
        "import numpy as np"
      ],
      "metadata": {
        "id": "CJbAZtFlhg3x"
      },
      "execution_count": null,
      "outputs": []
    },
    {
      "cell_type": "code",
      "source": [
        "train_df = \"/content/dataset/train\"\n",
        "test_df = \"/content/dataset/test\""
      ],
      "metadata": {
        "id": "A1lrQRxyhir7"
      },
      "execution_count": null,
      "outputs": []
    },
    {
      "cell_type": "code",
      "source": [
        "# Define the custom callback function to track and plot training metrics\n",
        "class CustomCallback(tf.keras.callbacks.Callback):\n",
        "    def on_epoch_end(self, epoch, logs=None):\n",
        "        if logs is None:\n",
        "            logs = {}\n",
        "        print(f\"Epoch {epoch + 1}/{self.params['epochs']} - loss: {logs['loss']:.4f} - accuracy: {logs['accuracy']:.4f} - val_loss: {logs['val_loss']:.4f} - val_accuracy: {logs['val_accuracy']:.4f}\")"
      ],
      "metadata": {
        "id": "2XPkKJPxhjQZ"
      },
      "execution_count": null,
      "outputs": []
    },
    {
      "cell_type": "code",
      "source": [
        "class UploadModel(tf.keras.callbacks.Callback):\n",
        "    def __init__(self, num_epochs = 10):\n",
        "      self.num_epochs = num_epochs\n",
        "\n",
        "    def on_epoch_end(self, epoch, logs=None):\n",
        "      if (epoch+1) % self.num_epochs == 0:\n",
        "        filepath = f\"/content/models/Cats_vs_Dogs_EffB0-{epoch+1:02d}.h5\"\n",
        "        model_imagenet.save(filepath, include_optimizer=True)\n",
        "        !gsutil -mq cp {filepath} gs://tibot-ml-labeling/models/cats_vs_dogs_task/shaheer/imagenet_model/model/\n",
        "        print(f\"{filepath} saved in bucket\")"
      ],
      "metadata": {
        "id": "h8IA_nS7PmcG"
      },
      "execution_count": null,
      "outputs": []
    },
    {
      "cell_type": "code",
      "source": [
        "# Data augmentation for training\n",
        "train_datagen = ImageDataGenerator(\n",
        "    rescale=1.0 / 255,\n",
        "    rotation_range=15,\n",
        "    width_shift_range=0.1,\n",
        "    height_shift_range=0.1,\n",
        "    shear_range=0.2,\n",
        "    zoom_range=0.2,\n",
        "    horizontal_flip=True,\n",
        "    fill_mode='nearest'\n",
        ")\n",
        "# Data preprocessing and augmentation for testing/validation\n",
        "test_datagen = ImageDataGenerator(rescale=1.0 / 255)\n",
        "# Define batch size\n",
        "batch_size = 32"
      ],
      "metadata": {
        "id": "sEY0A9sWhlyL"
      },
      "execution_count": null,
      "outputs": []
    },
    {
      "cell_type": "code",
      "source": [
        "train_generator = train_datagen.flow_from_directory(\n",
        "    train_df,\n",
        "    target_size=(224, 224),\n",
        "    batch_size=batch_size,\n",
        "    class_mode='binary',\n",
        "    shuffle=True\n",
        ")\n",
        "\n",
        "validation_generator = test_datagen.flow_from_directory(\n",
        "    test_df,\n",
        "    target_size=(224, 224),\n",
        "    batch_size=batch_size,\n",
        "    class_mode='binary',\n",
        "    shuffle=False\n",
        ")\n",
        "\n",
        "test_generator = test_datagen.flow_from_directory(\n",
        "    test_df,\n",
        "    target_size=(224, 224),\n",
        "    batch_size=batch_size,\n",
        "    class_mode='binary',\n",
        "    shuffle=False\n",
        ")"
      ],
      "metadata": {
        "id": "3i3X-ntJhpPn",
        "colab": {
          "base_uri": "https://localhost:8080/"
        },
        "outputId": "27cfbe0b-81a9-4937-d7c2-71a2cdd962bd"
      },
      "execution_count": null,
      "outputs": [
        {
          "output_type": "stream",
          "name": "stdout",
          "text": [
            "Found 17990 images belonging to 2 classes.\n",
            "Found 4732 images belonging to 2 classes.\n",
            "Found 4732 images belonging to 2 classes.\n"
          ]
        }
      ]
    },
    {
      "cell_type": "code",
      "source": [
        "# Create and compile the model (EfficientNetV2 B2 with ImageNet weights)\n",
        "base_model_imagenet = EfficientNetV2B2(weights='imagenet', include_top=False, input_shape=(224, 224, 3))\n",
        "x_imagenet = GlobalAveragePooling2D()(base_model_imagenet.output)\n",
        "x_imagenet = Dense(2, activation='softmax')(x_imagenet)\n",
        "model_imagenet = Model(inputs=base_model_imagenet.input, outputs=x_imagenet)\n",
        "model_imagenet.compile(optimizer='adam', loss='sparse_categorical_crossentropy', metrics=['accuracy'])"
      ],
      "metadata": {
        "id": "GHcbJ8mOh1HJ"
      },
      "execution_count": null,
      "outputs": []
    },
    {
      "cell_type": "code",
      "source": [
        "# Train the model (EfficientNetV2 B2 with ImageNet weights)\n",
        "history_imagenet = model_imagenet.fit(\n",
        "    train_generator,\n",
        "    validation_data=validation_generator,\n",
        "    epochs=10,\n",
        "    callbacks=[CustomCallback(), UploadModel()]  # Use the custom callback for model upload\n",
        ")"
      ],
      "metadata": {
        "id": "Y-4N7RDTh3U-",
        "colab": {
          "base_uri": "https://localhost:8080/"
        },
        "outputId": "4c2cf548-c3d3-43c8-d283-6bba08ef03ad"
      },
      "execution_count": null,
      "outputs": [
        {
          "output_type": "stream",
          "name": "stdout",
          "text": [
            "Epoch 1/10\n",
            "563/563 [==============================] - ETA: 0s - loss: 0.1559 - accuracy: 0.9405Epoch 1/10 - loss: 0.1559 - accuracy: 0.9405 - val_loss: 0.9905 - val_accuracy: 0.2612\n",
            "563/563 [==============================] - 356s 533ms/step - loss: 0.1559 - accuracy: 0.9405 - val_loss: 0.9905 - val_accuracy: 0.2612\n",
            "Epoch 2/10\n",
            "563/563 [==============================] - ETA: 0s - loss: 0.1074 - accuracy: 0.9588Epoch 2/10 - loss: 0.1074 - accuracy: 0.9588 - val_loss: 0.5628 - val_accuracy: 0.7437\n",
            "563/563 [==============================] - 303s 538ms/step - loss: 0.1074 - accuracy: 0.9588 - val_loss: 0.5628 - val_accuracy: 0.7437\n",
            "Epoch 3/10\n",
            "563/563 [==============================] - ETA: 0s - loss: 0.0807 - accuracy: 0.9693Epoch 3/10 - loss: 0.0807 - accuracy: 0.9693 - val_loss: 0.8263 - val_accuracy: 0.3265\n",
            "563/563 [==============================] - 298s 530ms/step - loss: 0.0807 - accuracy: 0.9693 - val_loss: 0.8263 - val_accuracy: 0.3265\n",
            "Epoch 4/10\n",
            "563/563 [==============================] - ETA: 0s - loss: 0.0850 - accuracy: 0.9680Epoch 4/10 - loss: 0.0850 - accuracy: 0.9680 - val_loss: 1.0515 - val_accuracy: 0.2593\n",
            "563/563 [==============================] - 295s 524ms/step - loss: 0.0850 - accuracy: 0.9680 - val_loss: 1.0515 - val_accuracy: 0.2593\n",
            "Epoch 5/10\n",
            "563/563 [==============================] - ETA: 0s - loss: 0.0661 - accuracy: 0.9739Epoch 5/10 - loss: 0.0661 - accuracy: 0.9739 - val_loss: 0.6324 - val_accuracy: 0.7386\n",
            "563/563 [==============================] - 321s 570ms/step - loss: 0.0661 - accuracy: 0.9739 - val_loss: 0.6324 - val_accuracy: 0.7386\n",
            "Epoch 6/10\n",
            "563/563 [==============================] - ETA: 0s - loss: 0.0660 - accuracy: 0.9754Epoch 6/10 - loss: 0.0660 - accuracy: 0.9754 - val_loss: 0.5503 - val_accuracy: 0.7407\n",
            "563/563 [==============================] - 299s 531ms/step - loss: 0.0660 - accuracy: 0.9754 - val_loss: 0.5503 - val_accuracy: 0.7407\n",
            "Epoch 7/10\n",
            "563/563 [==============================] - ETA: 0s - loss: 0.0640 - accuracy: 0.9759Epoch 7/10 - loss: 0.0640 - accuracy: 0.9759 - val_loss: 0.6345 - val_accuracy: 0.7297\n",
            "563/563 [==============================] - 296s 525ms/step - loss: 0.0640 - accuracy: 0.9759 - val_loss: 0.6345 - val_accuracy: 0.7297\n",
            "Epoch 8/10\n",
            "563/563 [==============================] - ETA: 0s - loss: 0.0570 - accuracy: 0.9794Epoch 8/10 - loss: 0.0570 - accuracy: 0.9794 - val_loss: 0.7678 - val_accuracy: 0.7399\n",
            "563/563 [==============================] - 296s 525ms/step - loss: 0.0570 - accuracy: 0.9794 - val_loss: 0.7678 - val_accuracy: 0.7399\n",
            "Epoch 9/10\n",
            "563/563 [==============================] - ETA: 0s - loss: 0.0506 - accuracy: 0.9810Epoch 9/10 - loss: 0.0506 - accuracy: 0.9810 - val_loss: 0.5837 - val_accuracy: 0.7413\n",
            "563/563 [==============================] - 302s 536ms/step - loss: 0.0506 - accuracy: 0.9810 - val_loss: 0.5837 - val_accuracy: 0.7413\n",
            "Epoch 10/10\n",
            "563/563 [==============================] - ETA: 0s - loss: 0.0546 - accuracy: 0.9793Epoch 10/10 - loss: 0.0546 - accuracy: 0.9793 - val_loss: 0.5178 - val_accuracy: 0.7532\n"
          ]
        },
        {
          "output_type": "stream",
          "name": "stderr",
          "text": [
            "/usr/local/lib/python3.10/dist-packages/keras/src/engine/training.py:3000: UserWarning: You are saving your model as an HDF5 file via `model.save()`. This file format is considered legacy. We recommend using instead the native Keras format, e.g. `model.save('my_model.keras')`.\n",
            "  saving_api.save_model(\n"
          ]
        },
        {
          "output_type": "stream",
          "name": "stdout",
          "text": [
            "/content/models/Cats_vs_Dogs_EffB0-10.h5 saved in bucket\n",
            "\b\b\b\b\b\b\b\b\b\b\b\b\b\b\b\b\b\b\b\b\b\b\b\b\b\b\b\b\b\b\b\b\b\b\b\b\b\b\b\b\b\b\b\b\b\b\b\b\b\b\b\b\b\b\b\b\b\b\b\b\b\b\b\b\b\b\b\b\b\b\b\b\b\b\b\b\b\b\b\b\b\b\b\b\r563/563 [==============================] - 308s 548ms/step - loss: 0.0546 - accuracy: 0.9793 - val_loss: 0.5178 - val_accuracy: 0.7532\n"
          ]
        }
      ]
    },
    {
      "cell_type": "code",
      "source": [
        "# Get the predictions and ground truth labels\n",
        "y_pred = np.argmax(model_imagenet.predict(test_generator), axis = 1)\n",
        "y_true = test_generator.classes\n",
        "\n",
        "# Create the classification report\n",
        "classification_report = classification_report(y_true, y_pred, output_dict=True)\n",
        "print(classification_report)"
      ],
      "metadata": {
        "colab": {
          "base_uri": "https://localhost:8080/"
        },
        "id": "8_cyboNI7huL",
        "outputId": "e716b2e3-10b6-4b65-b28b-f0de8477a499"
      },
      "execution_count": null,
      "outputs": [
        {
          "output_type": "stream",
          "name": "stdout",
          "text": [
            "148/148 [==============================] - 13s 88ms/step\n",
            "{'0': {'precision': 0.8827382902063544, 'recall': 0.7689015691868759, 'f1-score': 0.8218969197926197, 'support': 3505}, '1': {'precision': 0.5175699821322216, 'recall': 0.7082314588427058, 'f1-score': 0.5980729525120441, 'support': 1227}, 'accuracy': 0.7531699070160609, 'macro avg': {'precision': 0.700154136169288, 'recall': 0.7385665140147908, 'f1-score': 0.7099849361523318, 'support': 4732}, 'weighted avg': {'precision': 0.78805073441452, 'recall': 0.7531699070160609, 'f1-score': 0.7638597245573563, 'support': 4732}}\n"
          ]
        }
      ]
    },
    {
      "cell_type": "code",
      "source": [
        "# Create the confusion matrix\n",
        "confusion_matrix = confusion_matrix(y_true, y_pred)\n",
        "\n",
        "# Plot the confusion matrix\n",
        "plt.imshow(confusion_matrix, cmap='Blues')\n",
        "plt.colorbar()\n",
        "plt.xticks(range(2), ['Cat', 'Dog'])\n",
        "plt.yticks(range(2), ['Cat', 'Dog'])\n",
        "plt.title('Confusion Matrix')\n",
        "plt.show()\n"
      ],
      "metadata": {
        "colab": {
          "base_uri": "https://localhost:8080/",
          "height": 681
        },
        "id": "APvIrN6t7pw_",
        "outputId": "76eaae7d-d122-4805-e2c0-eb03d90ba9c0"
      },
      "execution_count": null,
      "outputs": [
        {
          "output_type": "display_data",
          "data": {
            "text/plain": [
              "<Figure size 640x480 with 2 Axes>"
            ],
            "image/png": "[encoded data removed]"
          },
          "metadata": {}
        },
        {
          "output_type": "error",
          "ename": "TypeError",
          "evalue": "ignored",
          "traceback": [
            "\u001b[0;31m---------------------------------------------------------------------------\u001b[0m",
            "\u001b[0;31mTypeError\u001b[0m                                 Traceback (most recent call last)",
            "\u001b[0;32m<ipython-input-60-98b3f19e0834>\u001b[0m in \u001b[0;36m<cell line: 13>\u001b[0;34m()\u001b[0m\n\u001b[1;32m     11\u001b[0m \u001b[0;34m\u001b[0m\u001b[0m\n\u001b[1;32m     12\u001b[0m \u001b[0;31m# Calculate the precision and recall for each class\u001b[0m\u001b[0;34m\u001b[0m\u001b[0;34m\u001b[0m\u001b[0m\n\u001b[0;32m---> 13\u001b[0;31m \u001b[0mprecision\u001b[0m \u001b[0;34m=\u001b[0m \u001b[0mclassification_report\u001b[0m\u001b[0;34m(\u001b[0m\u001b[0my_true\u001b[0m\u001b[0;34m,\u001b[0m \u001b[0my_pred\u001b[0m\u001b[0;34m,\u001b[0m \u001b[0moutput_dict\u001b[0m\u001b[0;34m=\u001b[0m\u001b[0;32mTrue\u001b[0m\u001b[0;34m)\u001b[0m\u001b[0;34m[\u001b[0m\u001b[0;34m'precision'\u001b[0m\u001b[0;34m]\u001b[0m\u001b[0;34m\u001b[0m\u001b[0;34m\u001b[0m\u001b[0m\n\u001b[0m\u001b[1;32m     14\u001b[0m \u001b[0mrecall\u001b[0m \u001b[0;34m=\u001b[0m \u001b[0mclassification_report\u001b[0m\u001b[0;34m(\u001b[0m\u001b[0my_true\u001b[0m\u001b[0;34m,\u001b[0m \u001b[0my_pred\u001b[0m\u001b[0;34m,\u001b[0m \u001b[0moutput_dict\u001b[0m\u001b[0;34m=\u001b[0m\u001b[0;32mTrue\u001b[0m\u001b[0;34m)\u001b[0m\u001b[0;34m[\u001b[0m\u001b[0;34m'recall'\u001b[0m\u001b[0;34m]\u001b[0m\u001b[0;34m\u001b[0m\u001b[0;34m\u001b[0m\u001b[0m\n\u001b[1;32m     15\u001b[0m \u001b[0;34m\u001b[0m\u001b[0m\n",
            "\u001b[0;31mTypeError\u001b[0m: 'dict' object is not callable"
          ]
        }
      ]
    },
    {
      "cell_type": "code",
      "source": [
        "# Plot training metrics\n",
        "plt.figure(figsize=(12, 4))\n",
        "plt.subplot(1, 2, 1)\n",
        "plt.plot(history_imagenet.history['accuracy'], label='Training Accuracy (ImageNet Weights)')\n",
        "plt.plot(history_imagenet.history['val_accuracy'], label='Validation Accuracy (ImageNet Weights)')\n",
        "plt.xlabel('Epochs')\n",
        "plt.ylabel('Accuracy')\n",
        "plt.legend()\n",
        "plt.show()"
      ],
      "metadata": {
        "id": "X_p97uEFidVd",
        "colab": {
          "base_uri": "https://localhost:8080/",
          "height": 388
        },
        "outputId": "f278b861-322c-415b-ea68-35ae51aeb5aa"
      },
      "execution_count": null,
      "outputs": [
        {
          "output_type": "display_data",
          "data": {
            "text/plain": [
              "<Figure size 1200x400 with 1 Axes>"
            ],
            "image/png": "[encoded data removed]"
          },
          "metadata": {}
        }
      ]
    }
  ]
}