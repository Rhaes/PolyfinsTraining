{
 "cells": [
  {
   "cell_type": "code",
   "execution_count": 2,
   "id": "0d1e7425-ca24-46cf-a1ac-d67fe1c395e1",
   "metadata": {
    "tags": []
   },
   "outputs": [
    {
     "name": "stdout",
     "output_type": "stream",
     "text": [
      "[LightGBM] [Warning] Auto-choosing row-wise multi-threading, the overhead of testing was 0.000131 seconds.\n",
      "You can set `force_row_wise=true` to remove the overhead.\n",
      "And if memory is not enough, you can set `force_col_wise=true`.\n",
      "[LightGBM] [Info] Total Bins 2426\n",
      "[LightGBM] [Info] Number of data points in the train set: 15120, number of used features: 46\n",
      "[LightGBM] [Info] Start training from score -1.945910\n",
      "[LightGBM] [Info] Start training from score -1.945910\n",
      "[LightGBM] [Info] Start training from score -1.945910\n",
      "[LightGBM] [Info] Start training from score -1.945910\n",
      "[LightGBM] [Info] Start training from score -1.945910\n",
      "[LightGBM] [Info] Start training from score -1.945910\n",
      "[LightGBM] [Info] Start training from score -1.945910\n",
      "[LightGBM] [Warning] Auto-choosing col-wise multi-threading, the overhead of testing was 0.000508 seconds.\n",
      "You can set `force_col_wise=true` to remove the overhead.\n",
      "[LightGBM] [Info] Total Bins 2426\n",
      "[LightGBM] [Info] Number of data points in the train set: 15120, number of used features: 46\n",
      "[LightGBM] [Info] Start training from score -1.945910\n",
      "[LightGBM] [Info] Start training from score -1.945910\n",
      "[LightGBM] [Info] Start training from score -1.945910\n",
      "[LightGBM] [Info] Start training from score -1.945910\n",
      "[LightGBM] [Info] Start training from score -1.945910\n",
      "[LightGBM] [Info] Start training from score -1.945910\n",
      "[LightGBM] [Info] Start training from score -1.945910\n",
      "LightGBM Predictions: [1 1 1 ... 3 3 3]\n",
      "MLP Predictions: [5 5 2 ... 3 3 3]\n",
      "Ensemble Predictions: [1 1 1 ... 3 3 3]\n"
     ]
    }
   ],
   "source": [
    "from fastapi import FastAPI\n",
    "import pickle\n",
    "import numpy as np\n",
    "from pydantic import BaseModel\n",
    "import pandas as pd\n",
    "from sklearn.model_selection import train_test_split\n",
    "from sklearn.metrics import accuracy_score\n",
    "from lightgbm import LGBMClassifier\n",
    "from sklearn.neural_network import MLPClassifier\n",
    "from sklearn.ensemble import VotingClassifier\n",
    "import pickle\n",
    "\n",
    "train_df = pd.read_csv(\"train.csv\")\n",
    "test_df = pd.read_csv(\"test.csv\")\n",
    "\n",
    "X_train = train_df.drop('Cover_Type', axis=1)\n",
    "y_train = train_df['Cover_Type']\n",
    "\n",
    "X_test = test_df\n",
    "\n",
    "lgb_model = LGBMClassifier(random_state=42)\n",
    "lgb_model.fit(X_train, y_train)\n",
    "\n",
    "mlp_model = MLPClassifier(random_state=42)\n",
    "mlp_model.fit(X_train, y_train)\n",
    "\n",
    "ensemble_model = VotingClassifier(estimators=[\n",
    "    ('lgb', lgb_model),\n",
    "    ('mlp', mlp_model)\n",
    "], voting='hard')\n",
    "ensemble_model.fit(X_train, y_train)\n",
    "\n",
    "lgb_predictions = lgb_model.predict(X_test)\n",
    "mlp_predictions = mlp_model.predict(X_test)\n",
    "ensemble_predictions = ensemble_model.predict(X_test)\n",
    "\n",
    "# You can evaluate the models using any appropriate metrics\n",
    "# For this example, let's just print the predicted classes\n",
    "print(\"LightGBM Predictions:\", lgb_predictions)\n",
    "print(\"MLP Predictions:\", mlp_predictions)\n",
    "print(\"Ensemble Predictions:\", ensemble_predictions)\n",
    "\n",
    "with open('lgb_model.pkl', 'wb') as f:\n",
    "    pickle.dump(lgb_model, f)\n",
    "\n",
    "with open('mlp_model.pkl', 'wb') as f:\n",
    "    pickle.dump(mlp_model, f)\n",
    "\n",
    "with open('ensemble_model.pkl', 'wb') as f:\n",
    "    pickle.dump(ensemble_model, f)\n",
    "\n",
    "with open('lgb_model.pkl', 'rb') as f:\n",
    "    model1 = pickle.load(f)\n",
    "\n",
    "with open('mlp_model.pkl', 'rb') as f:\n",
    "    model2 = pickle.load(f)\n",
    "\n",
    "with open('ensemble_model.pkl', 'rb') as f:\n",
    "    ensemble_model = pickle.load(f)"
   ]
  },
  {
   "cell_type": "code",
   "execution_count": 3,
   "id": "bc584b6f-608c-4fca-82a2-e21dc4ce52c9",
   "metadata": {
    "tags": []
   },
   "outputs": [],
   "source": [
    "app = FastAPI()\n",
    "\n",
    "class InputFeatures(BaseModel):\n",
    "    elevation: float\n",
    "    aspect: float\n",
    "    slope: float\n",
    "    horizontal_distance_to_hydrology: float\n",
    "    vertical_distance_to_hydrology: float\n",
    "    horizontal_distance_to_roadways: float\n",
    "    hillshade_9am: float\n",
    "    hillshade_noon: float\n",
    "    hillshade_3pm: float\n",
    "    horizontal_distance_to_fire_points: float\n",
    "    wilderness_area: list[int]\n",
    "    soil_type: list[int]\n",
    "\n",
    "class PredictionResult(BaseModel):\n",
    "    predicted_class: int\n",
    "\n",
    "@app.get(\"/\")\n",
    "def read_root():\n",
    "    return {\"message\": \"Welcome to the Forest Cover Type Prediction API\"}\n",
    "\n",
    "@app.get(\"/version\")\n",
    "def get_version():\n",
    "    return {\"version\": \"1.0\"}\n",
    "\n",
    "@app.post(\"/predict1\", response_model=PredictionResult)\n",
    "def predict_top_classifier(data: InputFeatures):\n",
    "    features = np.array([list(data.dict().values())[:-2]]).astype(np.float32)\n",
    "    prediction = model1.predict(features)\n",
    "    return {\"predicted_class\": int(prediction[0])}\n",
    "\n",
    "@app.post(\"/predict2\", response_model=PredictionResult)\n",
    "def predict_second_best_classifier(data: InputFeatures):\n",
    "    features = np.array([list(data.dict().values())[:-2]]).astype(np.float32)\n",
    "    prediction = model2.predict(features)\n",
    "    return {\"predicted_class\": int(prediction[0])}\n",
    "\n",
    "@app.post(\"/predict3\", response_model=PredictionResult)\n",
    "def predict_ensemble_classifier(data: InputFeatures):\n",
    "    features = np.array([list(data.dict().values())[:-2]]).astype(np.float32)\n",
    "    prediction = ensemble_model.predict(features)\n",
    "    return {\"predicted_class\": int(prediction[0])}"
   ]
  },
  {
   "cell_type": "code",
   "execution_count": 6,
   "id": "f76abcc6-529d-45c9-a7e1-a9864d15ead7",
   "metadata": {
    "tags": []
   },
   "outputs": [
    {
     "ename": "SyntaxError",
     "evalue": "invalid syntax. Perhaps you forgot a comma? (2488580257.py, line 4)",
     "output_type": "error",
     "traceback": [
      "\u001b[1;36m  Cell \u001b[1;32mIn[6], line 4\u001b[1;36m\u001b[0m\n\u001b[1;33m    uvicorn.run(app, --host 0.0.0.0 --port 8000)\u001b[0m\n\u001b[1;37m                     ^\u001b[0m\n\u001b[1;31mSyntaxError\u001b[0m\u001b[1;31m:\u001b[0m invalid syntax. Perhaps you forgot a comma?\n"
     ]
    }
   ],
   "source": [
    "import uvicorn\n",
    "\n",
    "if __name__ == \"__main__\":\n",
    "    uvicorn.run(app, --host 0.0.0.0 --port 8000)"
   ]
  },
  {
   "cell_type": "code",
   "execution_count": null,
   "id": "86a6ddd1-eba1-4398-836d-89804b66724b",
   "metadata": {},
   "outputs": [],
   "source": []
  }
 ],
 "metadata": {
  "kernelspec": {
   "display_name": "Python 3 (ipykernel)",
   "language": "python",
   "name": "python3"
  },
  "language_info": {
   "codemirror_mode": {
    "name": "ipython",
    "version": 3
   },
   "file_extension": ".py",
   "mimetype": "text/x-python",
   "name": "python",
   "nbconvert_exporter": "python",
   "pygments_lexer": "ipython3",
   "version": "3.11.3"
  }
 },
 "nbformat": 4,
 "nbformat_minor": 5
}
