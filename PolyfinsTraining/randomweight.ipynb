{
  "nbformat": 4,
  "nbformat_minor": 0,
  "metadata": {
    "colab": {
      "provenance": [],
      "gpuType": "T4"
    },
    "kernelspec": {
      "name": "python3",
      "display_name": "Python 3"
    },
    "language_info": {
      "name": "python"
    },
    "accelerator": "GPU"
  },
  "cells": [
    {
      "cell_type": "code",
      "execution_count": null,
      "metadata": {
        "id": "f8gitejbfmaL"
      },
      "outputs": [],
      "source": [
        "# Import PyDrive and associated libraries.\n",
        "# This only needs to be done once per notebook.\n",
        "import logging\n",
        "logging.getLogger('googleapiclient.discovery_cache').setLevel(logging.ERROR)\n",
        "from pydrive.auth import GoogleAuth\n",
        "from pydrive.drive import GoogleDrive\n",
        "from google.colab import auth\n",
        "from oauth2client.client import GoogleCredentials\n",
        "\n",
        "# Authenticate and create the PyDrive client.\n",
        "# This only needs to be done once per notebook.\n",
        "auth.authenticate_user()\n",
        "gauth = GoogleAuth()\n",
        "gauth.credentials = GoogleCredentials.get_application_default()\n",
        "drive = GoogleDrive(gauth)"
      ]
    },
    {
      "cell_type": "code",
      "source": [
        "!gsutil -m cp gs://tibot-ml-labeling/datasets/cats_vs_dogs_dataset.zip  ./"
      ],
      "metadata": {
        "id": "HsydYJvxfpBn",
        "colab": {
          "base_uri": "https://localhost:8080/"
        },
        "outputId": "9b4603a8-2393-4a75-c0c7-ec93535c66c5"
      },
      "execution_count": null,
      "outputs": [
        {
          "output_type": "stream",
          "name": "stdout",
          "text": [
            "Copying gs://tibot-ml-labeling/datasets/cats_vs_dogs_dataset.zip...\n",
            "/ [0/1 files][    0.0 B/593.6 MiB]   0% Done                                    \r==> NOTE: You are downloading one or more large file(s), which would\n",
            "run significantly faster if you enabled sliced object downloads. This\n",
            "feature is enabled by default but requires that compiled crcmod be\n",
            "installed (see \"gsutil help crcmod\").\n",
            "\n",
            "/ [1/1 files][593.6 MiB/593.6 MiB] 100% Done  60.4 MiB/s ETA 00:00:00           \n",
            "Operation completed over 1 objects/593.6 MiB.                                    \n"
          ]
        }
      ]
    },
    {
      "cell_type": "code",
      "source": [
        "!unzip -q /content/cats_vs_dogs_dataset.zip"
      ],
      "metadata": {
        "id": "KQRhvLGFf5h1"
      },
      "execution_count": null,
      "outputs": []
    },
    {
      "cell_type": "code",
      "source": [
        "import tensorflow as tf\n",
        "from tensorflow.keras.applications import EfficientNetV2B2\n",
        "from tensorflow.keras.layers import Dense, GlobalAveragePooling2D\n",
        "from tensorflow.keras.models import Model\n",
        "from tensorflow.keras.preprocessing.image import ImageDataGenerator\n",
        "from sklearn.metrics import classification_report, confusion_matrix\n",
        "import matplotlib.pyplot as plt\n",
        "from sklearn.model_selection import train_test_split"
      ],
      "metadata": {
        "id": "BpYYIGzAf8hV"
      },
      "execution_count": null,
      "outputs": []
    },
    {
      "cell_type": "code",
      "source": [
        "# Define the custom callback function to track and plot training metrics\n",
        "class CustomCallback(tf.keras.callbacks.Callback):\n",
        "    def on_epoch_end(self, epoch, logs=None):\n",
        "        if logs is None:\n",
        "            logs = {}\n",
        "        print(f\"Epoch {epoch + 1}/{self.params['epochs']} - loss: {logs['loss']:.4f} - accuracy: {logs['accuracy']:.4f} - val_loss: {logs['val_loss']:.4f} - val_accuracy: {logs['val_accuracy']:.4f}\")"
      ],
      "metadata": {
        "id": "5do4SLGbgI3E"
      },
      "execution_count": null,
      "outputs": []
    },
    {
      "cell_type": "code",
      "source": [
        "class UploadModel(tf.keras.callbacks.Callback):\n",
        "    def __init__(self, num_epochs = 10):\n",
        "      self.num_epochs = num_epochs\n",
        "\n",
        "    def on_epoch_end(self, epoch, logs=None):\n",
        "      if (epoch+1) % self.num_epochs == 0:\n",
        "        filepath = f\"/content/models/Cats_vs_Dogs_EffB0-{epoch+1:02d}.h5\"\n",
        "        model.save(filepath, include_optimizer=True)\n",
        "        !gsutil -mq cp {filepath} gs://tibot-ml-labeling/models/cats_vs_dogs_task/shaheer/randomweight_model/model/\n",
        "        print(f\"{filepath} saved in bucket\")"
      ],
      "metadata": {
        "id": "RmUW2XM-KfhH"
      },
      "execution_count": null,
      "outputs": []
    },
    {
      "cell_type": "code",
      "source": [
        "train_df = \"/content/dataset/train\"\n",
        "test_df = \"/content/dataset/test\""
      ],
      "metadata": {
        "id": "rFn9csEvNycQ"
      },
      "execution_count": null,
      "outputs": []
    },
    {
      "cell_type": "code",
      "source": [
        "# Data augmentation for training\n",
        "train_datagen = ImageDataGenerator(\n",
        "    rescale=1.0 / 255,\n",
        "    rotation_range=15,\n",
        "    width_shift_range=0.1,\n",
        "    height_shift_range=0.1,\n",
        "    shear_range=0.2,\n",
        "    zoom_range=0.2,\n",
        "    horizontal_flip=True,\n",
        "    fill_mode='nearest'\n",
        ")\n",
        "# Data preprocessing and augmentation for testing/validation\n",
        "test_datagen = ImageDataGenerator(rescale=1.0 / 255)\n",
        "# Define batch size\n",
        "batch_size = 32"
      ],
      "metadata": {
        "id": "TeyUE828gPIC"
      },
      "execution_count": null,
      "outputs": []
    },
    {
      "cell_type": "code",
      "source": [
        "train_generator = train_datagen.flow_from_directory(\n",
        "    train_df,\n",
        "    target_size=(224, 224),\n",
        "    batch_size=batch_size,\n",
        "    class_mode='binary',\n",
        "    shuffle=True\n",
        ")\n",
        "\n",
        "validation_generator = test_datagen.flow_from_directory(\n",
        "    test_df,\n",
        "    target_size=(224, 224),\n",
        "    batch_size=batch_size,\n",
        "    class_mode='binary',\n",
        "    shuffle=False\n",
        ")\n",
        "\n",
        "test_generator = test_datagen.flow_from_directory(\n",
        "    test_df,\n",
        "    target_size=(224, 224),\n",
        "    batch_size=batch_size,\n",
        "    class_mode='binary',\n",
        "    shuffle=False\n",
        ")"
      ],
      "metadata": {
        "id": "izoFaExegRhl",
        "colab": {
          "base_uri": "https://localhost:8080/"
        },
        "outputId": "fcad35bf-7083-4f15-850f-4fcc69b83aa6"
      },
      "execution_count": null,
      "outputs": [
        {
          "output_type": "stream",
          "name": "stdout",
          "text": [
            "Found 17990 images belonging to 2 classes.\n",
            "Found 4732 images belonging to 2 classes.\n",
            "Found 4732 images belonging to 2 classes.\n"
          ]
        }
      ]
    },
    {
      "cell_type": "code",
      "source": [
        "# Create and compile the model (EfficientNetV2 B2 from random weights)\n",
        "base_model = EfficientNetV2B2(weights=None, include_top=False, input_shape=(224, 224, 3))\n",
        "x = GlobalAveragePooling2D()(base_model.output)\n",
        "x = Dense(2, activation='softmax')(x)\n",
        "model = Model(inputs=base_model.input, outputs=x)\n",
        "model.compile(optimizer='adam', loss='sparse_categorical_crossentropy', metrics=['accuracy'])"
      ],
      "metadata": {
        "id": "eav2alFOgU0W"
      },
      "execution_count": null,
      "outputs": []
    },
    {
      "cell_type": "code",
      "source": [
        "# Train the model (EfficientNetV2 B2 from random weights)\n",
        "history = model.fit(\n",
        "    train_generator,\n",
        "    validation_data=validation_generator,\n",
        "    epochs=10,\n",
        "    callbacks=[CustomCallback(), UploadModel()]  # Use the custom callback for model upload\n",
        ")"
      ],
      "metadata": {
        "id": "SYikA947gZo9",
        "outputId": "a0a4f869-f012-4af1-8e9b-11addd3e5b3e",
        "colab": {
          "base_uri": "https://localhost:8080/"
        }
      },
      "execution_count": null,
      "outputs": [
        {
          "output_type": "stream",
          "name": "stdout",
          "text": [
            "Epoch 1/10\n",
            "563/563 [==============================] - ETA: 0s - loss: 0.7156 - accuracy: 0.4958Epoch 1/10 - loss: 0.7156 - accuracy: 0.4958 - val_loss: 0.6650 - val_accuracy: 0.7407\n",
            "563/563 [==============================] - 381s 574ms/step - loss: 0.7156 - accuracy: 0.4958 - val_loss: 0.6650 - val_accuracy: 0.7407\n",
            "Epoch 2/10\n",
            "563/563 [==============================] - ETA: 0s - loss: 0.6972 - accuracy: 0.5016Epoch 2/10 - loss: 0.6972 - accuracy: 0.5016 - val_loss: 0.7038 - val_accuracy: 0.2593\n",
            "563/563 [==============================] - 300s 532ms/step - loss: 0.6972 - accuracy: 0.5016 - val_loss: 0.7038 - val_accuracy: 0.2593\n",
            "Epoch 3/10\n",
            "563/563 [==============================] - ETA: 0s - loss: 0.6961 - accuracy: 0.5002Epoch 3/10 - loss: 0.6961 - accuracy: 0.5002 - val_loss: 0.6633 - val_accuracy: 0.7407\n",
            "563/563 [==============================] - 301s 534ms/step - loss: 0.6961 - accuracy: 0.5002 - val_loss: 0.6633 - val_accuracy: 0.7407\n",
            "Epoch 4/10\n",
            "563/563 [==============================] - ETA: 0s - loss: 0.6954 - accuracy: 0.4958Epoch 4/10 - loss: 0.6954 - accuracy: 0.4958 - val_loss: 0.6959 - val_accuracy: 0.2593\n",
            "563/563 [==============================] - 308s 547ms/step - loss: 0.6954 - accuracy: 0.4958 - val_loss: 0.6959 - val_accuracy: 0.2593\n",
            "Epoch 5/10\n",
            "563/563 [==============================] - ETA: 0s - loss: 0.6953 - accuracy: 0.5008Epoch 5/10 - loss: 0.6953 - accuracy: 0.5008 - val_loss: 0.7182 - val_accuracy: 0.2593\n",
            "563/563 [==============================] - 307s 546ms/step - loss: 0.6953 - accuracy: 0.5008 - val_loss: 0.7182 - val_accuracy: 0.2593\n",
            "Epoch 6/10\n",
            "563/563 [==============================] - ETA: 0s - loss: 0.6947 - accuracy: 0.4948Epoch 6/10 - loss: 0.6947 - accuracy: 0.4948 - val_loss: 0.6891 - val_accuracy: 0.7407\n",
            "563/563 [==============================] - 299s 530ms/step - loss: 0.6947 - accuracy: 0.4948 - val_loss: 0.6891 - val_accuracy: 0.7407\n",
            "Epoch 7/10\n",
            "563/563 [==============================] - ETA: 0s - loss: 0.6865 - accuracy: 0.5336Epoch 7/10 - loss: 0.6865 - accuracy: 0.5336 - val_loss: 12.5585 - val_accuracy: 0.2593\n",
            "563/563 [==============================] - 300s 532ms/step - loss: 0.6865 - accuracy: 0.5336 - val_loss: 12.5585 - val_accuracy: 0.2593\n",
            "Epoch 8/10\n",
            "563/563 [==============================] - ETA: 0s - loss: 0.6176 - accuracy: 0.6584Epoch 8/10 - loss: 0.6176 - accuracy: 0.6584 - val_loss: 0.5885 - val_accuracy: 0.7407\n",
            "563/563 [==============================] - 302s 536ms/step - loss: 0.6176 - accuracy: 0.6584 - val_loss: 0.5885 - val_accuracy: 0.7407\n",
            "Epoch 9/10\n",
            "563/563 [==============================] - ETA: 0s - loss: 0.5274 - accuracy: 0.7433Epoch 9/10 - loss: 0.5274 - accuracy: 0.7433 - val_loss: 1.3125 - val_accuracy: 0.2593\n",
            "563/563 [==============================] - 297s 528ms/step - loss: 0.5274 - accuracy: 0.7433 - val_loss: 1.3125 - val_accuracy: 0.2593\n",
            "Epoch 10/10\n",
            "563/563 [==============================] - ETA: 0s - loss: 0.4939 - accuracy: 0.7628Epoch 10/10 - loss: 0.4939 - accuracy: 0.7628 - val_loss: 0.6780 - val_accuracy: 0.7407\n",
            "/content/models/Cats_vs_Dogs_EffB0-10.h5 saved in bucket\n",
            "563/563 [==============================] - 303s 538ms/step - loss: 0.4939 - accuracy: 0.7628 - val_loss: 0.6780 - val_accuracy: 0.7407\n"
          ]
        }
      ]
    },
    {
      "cell_type": "code",
      "source": [
        "import numpy as np\n",
        "\n",
        "# Get the class labels\n",
        "class_labels = validation_generator.class_indices.keys()\n",
        "\n",
        "# Create classification reports\n",
        "y_true = validation_generator.classes\n",
        "# Get the maximum probability for each class\n",
        "y_pred = np.argmax(model.predict(validation_generator), axis=1)\n",
        "\n",
        "print(\"Classification Report for Model (Random Weights):\")\n",
        "print(classification_report(y_true, y_pred, target_names=class_labels))"
      ],
      "metadata": {
        "id": "83ESCbP1ggOc",
        "colab": {
          "base_uri": "https://localhost:8080/"
        },
        "outputId": "945e99ff-edaa-44ba-cdaf-241fbf5dbc8d"
      },
      "execution_count": null,
      "outputs": [
        {
          "output_type": "stream",
          "name": "stdout",
          "text": [
            "148/148 [==============================] - 14s 92ms/step\n",
            "Classification Report for Model (Random Weights):\n",
            "              precision    recall  f1-score   support\n",
            "\n",
            "        cats       0.74      1.00      0.85      3505\n",
            "        dogs       0.00      0.00      0.00      1227\n",
            "\n",
            "    accuracy                           0.74      4732\n",
            "   macro avg       0.37      0.50      0.43      4732\n",
            "weighted avg       0.55      0.74      0.63      4732\n",
            "\n"
          ]
        },
        {
          "output_type": "stream",
          "name": "stderr",
          "text": [
            "/usr/local/lib/python3.10/dist-packages/sklearn/metrics/_classification.py:1344: UndefinedMetricWarning: Precision and F-score are ill-defined and being set to 0.0 in labels with no predicted samples. Use `zero_division` parameter to control this behavior.\n",
            "  _warn_prf(average, modifier, msg_start, len(result))\n",
            "/usr/local/lib/python3.10/dist-packages/sklearn/metrics/_classification.py:1344: UndefinedMetricWarning: Precision and F-score are ill-defined and being set to 0.0 in labels with no predicted samples. Use `zero_division` parameter to control this behavior.\n",
            "  _warn_prf(average, modifier, msg_start, len(result))\n",
            "/usr/local/lib/python3.10/dist-packages/sklearn/metrics/_classification.py:1344: UndefinedMetricWarning: Precision and F-score are ill-defined and being set to 0.0 in labels with no predicted samples. Use `zero_division` parameter to control this behavior.\n",
            "  _warn_prf(average, modifier, msg_start, len(result))\n"
          ]
        }
      ]
    },
    {
      "cell_type": "code",
      "source": [
        "# Create confusion matrices\n",
        "cm = confusion_matrix(y_true, y_pred)\n",
        "\n",
        "# Print the confusion matrix\n",
        "print(\"Confusion Matrix:\")\n",
        "print(cm)"
      ],
      "metadata": {
        "id": "fesoOMHygmtz",
        "colab": {
          "base_uri": "https://localhost:8080/"
        },
        "outputId": "f4ad6b2a-ef7e-4a47-e900-2d55b6aef891"
      },
      "execution_count": null,
      "outputs": [
        {
          "output_type": "stream",
          "name": "stdout",
          "text": [
            "Confusion Matrix:\n",
            "[[3505    0]\n",
            " [1227    0]]\n"
          ]
        }
      ]
    },
    {
      "cell_type": "code",
      "source": [
        "# Plot training metrics\n",
        "plt.figure(figsize=(12, 4))\n",
        "plt.subplot(1, 2, 1)\n",
        "plt.plot(history.history['accuracy'], label='Training Accuracy (Random Weights)')\n",
        "plt.plot(history.history['val_accuracy'], label='Validation Accuracy (Random Weights)')\n",
        "plt.xlabel('Epochs')\n",
        "plt.ylabel('Accuracy')\n",
        "plt.legend()\n",
        "plt.show()"
      ],
      "metadata": {
        "id": "y64z0QGKgsad",
        "colab": {
          "base_uri": "https://localhost:8080/",
          "height": 388
        },
        "outputId": "5b74a24b-c563-435d-d58b-9fe789d31e94"
      },
      "execution_count": null,
      "outputs": [
        {
          "output_type": "display_data",
          "data": {
            "text/plain": [
              "<Figure size 1200x400 with 1 Axes>"
            ],
            "image/png": "[encoded data removed]"
          },
          "metadata": {}
        }
      ]
    }
  ]
}